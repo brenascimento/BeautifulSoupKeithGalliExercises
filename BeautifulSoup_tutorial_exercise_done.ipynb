{
  "nbformat": 4,
  "nbformat_minor": 0,
  "metadata": {
    "colab": {
      "name": "BeautifulSoup sketch.ipynb",
      "provenance": [],
      "collapsed_sections": [],
      "authorship_tag": "ABX9TyNXlevVwqUHVCcYMLUoH3K/",
      "include_colab_link": true
    },
    "kernelspec": {
      "name": "python3",
      "display_name": "Python 3"
    },
    "language_info": {
      "name": "python"
    }
  },
  "cells": [
    {
      "cell_type": "markdown",
      "metadata": {
        "id": "view-in-github",
        "colab_type": "text"
      },
      "source": [
        "<a href=\"https://colab.research.google.com/github/momentoinesquecivel/BeautifulSoupKeithGalliExercises/blob/main/BeautifulSoup_tutorial_exercise_done.ipynb\" target=\"_parent\"><img src=\"https://colab.research.google.com/assets/colab-badge.svg\" alt=\"Open In Colab\"/></a>"
      ]
    },
    {
      "cell_type": "markdown",
      "source": [
        "### From video [Beautiful Soup Tutorial](https://www.youtube.com/watch?v=GjKQ6V_ViQE) by [Keith Galli](https://www.youtube.com/channel/UCq6XkhO5SZ66N04IcPbqNcw)"
      ],
      "metadata": {
        "id": "Vsxk7UdXnT43"
      }
    },
    {
      "cell_type": "markdown",
      "source": [
        "#### Load Web site https://keithgalli.github.io/web-scraping/webpage.html"
      ],
      "metadata": {
        "id": "YOrAds8Inn3e"
      }
    },
    {
      "cell_type": "code",
      "execution_count": null,
      "metadata": {
        "id": "sZgLWQQGnGLY"
      },
      "outputs": [],
      "source": [
        "import requests\n",
        "from bs4 import BeautifulSoup"
      ]
    },
    {
      "cell_type": "code",
      "source": [
        "url = \"https://keithgalli.github.io/web-scraping/\"\n",
        "r = requests.get(url + \"webpage.html\")\n",
        "print(r.status_code)"
      ],
      "metadata": {
        "colab": {
          "base_uri": "https://localhost:8080/"
        },
        "id": "qCrDbGZvniRJ",
        "outputId": "5e65b097-6f48-444b-bb18-0553c680f0c6"
      },
      "execution_count": null,
      "outputs": [
        {
          "output_type": "stream",
          "name": "stdout",
          "text": [
            "200\n"
          ]
        }
      ]
    },
    {
      "cell_type": "code",
      "source": [
        "webpage = BeautifulSoup(r.content)\n",
        "print(webpage.body.prettify())"
      ],
      "metadata": {
        "id": "i-eZ1vxLn2JY"
      },
      "execution_count": null,
      "outputs": []
    },
    {
      "cell_type": "markdown",
      "source": [
        "#### Exercise 1: Grab all of social links from the webpage\n",
        "\n",
        "with 3 different ways"
      ],
      "metadata": {
        "id": "04WosHaFoGZN"
      }
    },
    {
      "cell_type": "code",
      "source": [
        "social = webpage.find(\"ul\", attrs={\"class\": \"socials\"})\n",
        "links = social.select(\"li a\")\n",
        "links = [a[\"href\"] for a in links]\n",
        "for i in links: print(i)"
      ],
      "metadata": {
        "colab": {
          "base_uri": "https://localhost:8080/"
        },
        "id": "jeyfjvaAn6OR",
        "outputId": "200658b6-ab13-45d1-aceb-d228d321cab4"
      },
      "execution_count": null,
      "outputs": [
        {
          "output_type": "stream",
          "name": "stdout",
          "text": [
            "https://www.instagram.com/keithgalli/\n",
            "https://twitter.com/keithgalli\n",
            "https://www.linkedin.com/in/keithgalli/\n",
            "https://www.tiktok.com/@keithgalli\n"
          ]
        }
      ]
    },
    {
      "cell_type": "code",
      "source": [
        "links = social.find_all(\"li\")\n",
        "for a in links:\n",
        "  print(a.find(\"a\").string)"
      ],
      "metadata": {
        "colab": {
          "base_uri": "https://localhost:8080/"
        },
        "id": "_CAxktSCpDoE",
        "outputId": "555784a3-cf91-44dc-ac03-57229436d6aa"
      },
      "execution_count": null,
      "outputs": [
        {
          "output_type": "stream",
          "name": "stdout",
          "text": [
            "https://www.instagram.com/keithgalli/\n",
            "https://twitter.com/keithgalli\n",
            "https://www.linkedin.com/in/keithgalli/\n",
            "https://www.tiktok.com/@keithgalli\n"
          ]
        }
      ]
    },
    {
      "cell_type": "code",
      "source": [
        "import re\n",
        "links = social.find_all(string=re.compile(\"https://\"))\n",
        "for i in links: print(i)"
      ],
      "metadata": {
        "colab": {
          "base_uri": "https://localhost:8080/"
        },
        "id": "duIUiS87rJfv",
        "outputId": "27c97734-eb62-4ac0-ca16-58496a7b3826"
      },
      "execution_count": null,
      "outputs": [
        {
          "output_type": "stream",
          "name": "stdout",
          "text": [
            "https://www.instagram.com/keithgalli/\n",
            "https://twitter.com/keithgalli\n",
            "https://www.linkedin.com/in/keithgalli/\n",
            "https://www.tiktok.com/@keithgalli\n"
          ]
        }
      ]
    },
    {
      "cell_type": "markdown",
      "source": [
        "### Exercise 2: Scrape HTML table in pandas DataFrame"
      ],
      "metadata": {
        "id": "5bIoD04NzQNQ"
      }
    },
    {
      "cell_type": "code",
      "source": [
        "import pandas as pd\n",
        "import numpy as np\n",
        "table = webpage.find(\"table\")\n",
        "columns = table.thead.find_all(\"th\")\n",
        "columns_name = [e.string for e in columns]\n",
        "\n",
        "rows = table.tbody.find_all(\"tr\")\n",
        "trs = [i.find_all(\"td\") for i in rows]\n",
        "tds = [[i.get_text().strip() for i in r] for r in trs]\n",
        "df = pd.DataFrame(tds, columns=columns_name)\n",
        "df.loc[df[\"Team\"] != \"Did not play\", :]"
      ],
      "metadata": {
        "colab": {
          "base_uri": "https://localhost:8080/",
          "height": 174
        },
        "id": "QWYrJBa1sjRw",
        "outputId": "62f6211f-dabb-4775-b09d-29e0a13dbcc9"
      },
      "execution_count": null,
      "outputs": [
        {
          "output_type": "execute_result",
          "data": {
            "text/html": [
              "<div>\n",
              "<style scoped>\n",
              "    .dataframe tbody tr th:only-of-type {\n",
              "        vertical-align: middle;\n",
              "    }\n",
              "\n",
              "    .dataframe tbody tr th {\n",
              "        vertical-align: top;\n",
              "    }\n",
              "\n",
              "    .dataframe thead th {\n",
              "        text-align: right;\n",
              "    }\n",
              "</style>\n",
              "<table border=\"1\" class=\"dataframe\">\n",
              "  <thead>\n",
              "    <tr style=\"text-align: right;\">\n",
              "      <th></th>\n",
              "      <th>S</th>\n",
              "      <th>Team</th>\n",
              "      <th>League</th>\n",
              "      <th>GP</th>\n",
              "      <th>G</th>\n",
              "      <th>A</th>\n",
              "      <th>TP</th>\n",
              "      <th>PIM</th>\n",
              "      <th>+/-</th>\n",
              "      <th></th>\n",
              "      <th>POST</th>\n",
              "      <th>GP</th>\n",
              "      <th>G</th>\n",
              "      <th>A</th>\n",
              "      <th>TP</th>\n",
              "      <th>PIM</th>\n",
              "      <th>+/-</th>\n",
              "    </tr>\n",
              "  </thead>\n",
              "  <tbody>\n",
              "    <tr>\n",
              "      <th>0</th>\n",
              "      <td>2014-15</td>\n",
              "      <td>MIT (Mass. Inst. of Tech.)</td>\n",
              "      <td>ACHA II</td>\n",
              "      <td>17</td>\n",
              "      <td>3</td>\n",
              "      <td>9</td>\n",
              "      <td>12</td>\n",
              "      <td>20</td>\n",
              "      <td></td>\n",
              "      <td>|</td>\n",
              "      <td></td>\n",
              "      <td></td>\n",
              "      <td></td>\n",
              "      <td></td>\n",
              "      <td></td>\n",
              "      <td></td>\n",
              "      <td></td>\n",
              "    </tr>\n",
              "    <tr>\n",
              "      <th>1</th>\n",
              "      <td>2015-16</td>\n",
              "      <td>MIT (Mass. Inst. of Tech.)</td>\n",
              "      <td>ACHA II</td>\n",
              "      <td>9</td>\n",
              "      <td>1</td>\n",
              "      <td>1</td>\n",
              "      <td>2</td>\n",
              "      <td>2</td>\n",
              "      <td></td>\n",
              "      <td>|</td>\n",
              "      <td></td>\n",
              "      <td></td>\n",
              "      <td></td>\n",
              "      <td></td>\n",
              "      <td></td>\n",
              "      <td></td>\n",
              "      <td></td>\n",
              "    </tr>\n",
              "    <tr>\n",
              "      <th>2</th>\n",
              "      <td>2016-17</td>\n",
              "      <td>MIT (Mass. Inst. of Tech.)</td>\n",
              "      <td>ACHA II</td>\n",
              "      <td>12</td>\n",
              "      <td>5</td>\n",
              "      <td>5</td>\n",
              "      <td>10</td>\n",
              "      <td>8</td>\n",
              "      <td>0</td>\n",
              "      <td>|</td>\n",
              "      <td></td>\n",
              "      <td></td>\n",
              "      <td></td>\n",
              "      <td></td>\n",
              "      <td></td>\n",
              "      <td></td>\n",
              "      <td></td>\n",
              "    </tr>\n",
              "    <tr>\n",
              "      <th>4</th>\n",
              "      <td>2018-19</td>\n",
              "      <td>MIT (Mass. Inst. of Tech.)</td>\n",
              "      <td>ACHA III</td>\n",
              "      <td>8</td>\n",
              "      <td>5</td>\n",
              "      <td>10</td>\n",
              "      <td>15</td>\n",
              "      <td>8</td>\n",
              "      <td></td>\n",
              "      <td>|</td>\n",
              "      <td></td>\n",
              "      <td></td>\n",
              "      <td></td>\n",
              "      <td></td>\n",
              "      <td></td>\n",
              "      <td></td>\n",
              "      <td></td>\n",
              "    </tr>\n",
              "  </tbody>\n",
              "</table>\n",
              "</div>"
            ],
            "text/plain": [
              "         S                        Team    League  GP  G   A  ... GP G A TP PIM +/-\n",
              "0  2014-15  MIT (Mass. Inst. of Tech.)   ACHA II  17  3   9  ...                  \n",
              "1  2015-16  MIT (Mass. Inst. of Tech.)   ACHA II   9  1   1  ...                  \n",
              "2  2016-17  MIT (Mass. Inst. of Tech.)   ACHA II  12  5   5  ...                  \n",
              "4  2018-19  MIT (Mass. Inst. of Tech.)  ACHA III   8  5  10  ...                  \n",
              "\n",
              "[4 rows x 17 columns]"
            ]
          },
          "metadata": {},
          "execution_count": 54
        }
      ]
    },
    {
      "cell_type": "code",
      "source": [
        "df.info()"
      ],
      "metadata": {
        "colab": {
          "base_uri": "https://localhost:8080/"
        },
        "id": "62c9cRQun0vN",
        "outputId": "fbf5cde8-7a57-4a67-95ef-a4bb5ca75494"
      },
      "execution_count": null,
      "outputs": [
        {
          "output_type": "stream",
          "name": "stdout",
          "text": [
            "<class 'pandas.core.frame.DataFrame'>\n",
            "RangeIndex: 5 entries, 0 to 4\n",
            "Data columns (total 17 columns):\n",
            " #   Column  Non-Null Count  Dtype \n",
            "---  ------  --------------  ----- \n",
            " 0   S       5 non-null      object\n",
            " 1   Team    5 non-null      object\n",
            " 2   League  5 non-null      object\n",
            " 3   GP      5 non-null      object\n",
            " 4   G       5 non-null      object\n",
            " 5   A       5 non-null      object\n",
            " 6   TP      5 non-null      object\n",
            " 7   PIM     5 non-null      object\n",
            " 8   +/-     5 non-null      object\n",
            " 9           5 non-null      object\n",
            " 10  POST    5 non-null      object\n",
            " 11  GP      5 non-null      object\n",
            " 12  G       5 non-null      object\n",
            " 13  A       5 non-null      object\n",
            " 14  TP      5 non-null      object\n",
            " 15  PIM     5 non-null      object\n",
            " 16  +/-     5 non-null      object\n",
            "dtypes: object(17)\n",
            "memory usage: 808.0+ bytes\n"
          ]
        }
      ]
    },
    {
      "cell_type": "markdown",
      "source": [
        "#### Exercise 3: Grab all fun facts that contain the word \"is\""
      ],
      "metadata": {
        "id": "QqIfIoAM3gac"
      }
    },
    {
      "cell_type": "code",
      "source": [
        "import re\n",
        "fun_facts = webpage.find(\"ul\", attrs={\"class\": \"fun-facts\"})\n",
        "fun_facts = fun_facts.find_all(\"li\")\n",
        "[ff.get_text() for ff in fun_facts if \"is\" in ff.get_text()]"
      ],
      "metadata": {
        "colab": {
          "base_uri": "https://localhost:8080/"
        },
        "id": "10PAgrPp0Ymu",
        "outputId": "1d990759-9722-49bc-b65f-206eedc2971a"
      },
      "execution_count": null,
      "outputs": [
        {
          "output_type": "execute_result",
          "data": {
            "text/plain": [
              "['Middle name is Ronald',\n",
              " 'Dunkin Donuts coffee is better than Starbucks',\n",
              " \"A favorite book series of mine is Ender's Game\",\n",
              " 'Current video game of choice is Rocket League',\n",
              " \"The band that I've seen the most times live is the Zac Brown Band\"]"
            ]
          },
          "metadata": {},
          "execution_count": 15
        }
      ]
    },
    {
      "cell_type": "markdown",
      "source": [
        "#### Exercise 4: Use BeautifulSoup to help download image from webpage"
      ],
      "metadata": {
        "id": "IcXbfxZ8b7e0"
      }
    },
    {
      "cell_type": "code",
      "source": [
        "images_div = webpage.select(\"div.row .column\")\n",
        "images_urls = [url + div.img[\"src\"] for div in images_div]\n",
        "images_urls "
      ],
      "metadata": {
        "colab": {
          "base_uri": "https://localhost:8080/"
        },
        "id": "eE7KaE0O_DtS",
        "outputId": "0194d8dc-6a6c-458a-e045-15e66bc204ae"
      },
      "execution_count": null,
      "outputs": [
        {
          "output_type": "execute_result",
          "data": {
            "text/plain": [
              "['https://keithgalli.github.io/web-scraping/images/italy/lake_como.jpg',\n",
              " 'https://keithgalli.github.io/web-scraping/images/italy/pontevecchio.jpg',\n",
              " 'https://keithgalli.github.io/web-scraping/images/italy/riomaggiore.jpg']"
            ]
          },
          "metadata": {},
          "execution_count": 24
        }
      ]
    },
    {
      "cell_type": "code",
      "source": [
        "for i in range(len(images_urls)):\n",
        "  with open(\"image\"+str(i+1)+\".jpg\", \"wb\") as handler:\n",
        "    handler.write(requests.get(images_urls[i]).content)\n",
        "    # <----------- now see the files on file bar "
      ],
      "metadata": {
        "id": "GlUvWzyDdI6D"
      },
      "execution_count": null,
      "outputs": []
    },
    {
      "cell_type": "markdown",
      "source": [
        "#### Exercise 5: Solve the mystery challenge"
      ],
      "metadata": {
        "id": "n3vuzl5AiGzY"
      }
    },
    {
      "cell_type": "code",
      "source": [
        "h2_mystery_challenge = webpage.find(\"h2\", string=re.compile(\"Mystery\"))\n",
        "h2_next_siblings = h2_mystery_challenge.find_next_sibling(\"div\")\n",
        "list_file_links = h2_next_siblings.find_all(\"a\")\n",
        "file_links = [url + a[\"href\"] for a in list_file_links]\n",
        "file_links\n"
      ],
      "metadata": {
        "colab": {
          "base_uri": "https://localhost:8080/"
        },
        "id": "8l9afVbDhNAk",
        "outputId": "d04f7838-99a6-4d2e-8510-a44a825e8e18"
      },
      "execution_count": null,
      "outputs": [
        {
          "output_type": "execute_result",
          "data": {
            "text/plain": [
              "['https://keithgalli.github.io/web-scraping/challenge/file_1.html',\n",
              " 'https://keithgalli.github.io/web-scraping/challenge/file_2.html',\n",
              " 'https://keithgalli.github.io/web-scraping/challenge/file_3.html',\n",
              " 'https://keithgalli.github.io/web-scraping/challenge/file_4.html',\n",
              " 'https://keithgalli.github.io/web-scraping/challenge/file_5.html',\n",
              " 'https://keithgalli.github.io/web-scraping/challenge/file_6.html',\n",
              " 'https://keithgalli.github.io/web-scraping/challenge/file_7.html',\n",
              " 'https://keithgalli.github.io/web-scraping/challenge/file_8.html',\n",
              " 'https://keithgalli.github.io/web-scraping/challenge/file_9.html',\n",
              " 'https://keithgalli.github.io/web-scraping/challenge/file_10.html']"
            ]
          },
          "metadata": {},
          "execution_count": 40
        }
      ]
    },
    {
      "cell_type": "code",
      "source": [
        "for file_link in file_links:\n",
        "  file_req = requests.get(file_link).content\n",
        "  soup = BeautifulSoup(file_req)\n",
        "  paragraph = soup.find(\"p\", attrs={\"id\": \"secret-word\"})\n",
        "  if paragraph:\n",
        "    # print(paragraph.string, \"-> figured out on: \" + file_link.split(\"/\")[-1])\n",
        "    # for view all secret message\n",
        "    print(paragraph.string)"
      ],
      "metadata": {
        "colab": {
          "base_uri": "https://localhost:8080/"
        },
        "id": "LPSKKEBgivFe",
        "outputId": "d80d08e6-c884-4a70-ebf3-985fff7f500b"
      },
      "execution_count": null,
      "outputs": [
        {
          "output_type": "stream",
          "name": "stdout",
          "text": [
            "Make\n",
            "sure\n",
            "to\n",
            "smash\n",
            "that\n",
            "like\n",
            "button\n",
            "and\n",
            "subscribe\n",
            "!!!\n"
          ]
        }
      ]
    },
    {
      "cell_type": "markdown",
      "source": [
        "# I solved all BeautifulSoup of Keith! Thank You Brother, and God Bless You!!!"
      ],
      "metadata": {
        "id": "0EfdKq2JoZY8"
      }
    },
    {
      "cell_type": "code",
      "source": [
        ""
      ],
      "metadata": {
        "id": "EnTt7GwjojQc"
      },
      "execution_count": null,
      "outputs": []
    }
  ]
}